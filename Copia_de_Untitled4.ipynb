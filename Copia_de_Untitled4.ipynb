{
  "nbformat": 4,
  "nbformat_minor": 0,
  "metadata": {
    "colab": {
      "provenance": []
    },
    "kernelspec": {
      "name": "python3",
      "display_name": "Python 3"
    },
    "language_info": {
      "name": "python"
    }
  },
  "cells": [
    {
      "cell_type": "code",
      "source": [
        "num = int(input(\"Ingrese un número: \"))\n",
        "\n",
        "if num % 2 == 0:\n",
        "    print(f\"El número {num} es par.\")\n",
        "else:\n",
        "    print(f\"El número {num} es impar.\")"
      ],
      "metadata": {
        "colab": {
          "base_uri": "https://localhost:8080/"
        },
        "id": "D8kOODPMxpGe",
        "outputId": "b08d9e8a-be61-420b-a4bd-9c7735e1ee1f"
      },
      "execution_count": null,
      "outputs": [
        {
          "output_type": "stream",
          "name": "stdout",
          "text": [
            "Ingrese un número: 6\n",
            "El número 6 es par.\n"
          ]
        }
      ]
    },
    {
      "cell_type": "code",
      "source": [
        "año = int(input(\"Ingrese un año: \"))\n",
        "\n",
        "if (año % 4 == 0 and año % 100 != 0) or (año % 400 == 0):\n",
        "    print(\"Es un año bisiesto\")\n",
        "else:\n",
        "    print(\"No es un año bisiesto\")"
      ],
      "metadata": {
        "colab": {
          "base_uri": "https://localhost:8080/"
        },
        "id": "NaUrZHJxyILr",
        "outputId": "6d9566a9-1d86-49bc-b380-436e149f7dc0"
      },
      "execution_count": null,
      "outputs": [
        {
          "output_type": "stream",
          "name": "stdout",
          "text": [
            "Ingrese un año: 2025\n",
            "No es un año bisiesto\n"
          ]
        }
      ]
    },
    {
      "cell_type": "code",
      "source": [
        "nombre = input(\"Ingrese su nombre: \")\n",
        "edad = int(input(\"Ingrese su edad: \"))\n",
        "\n",
        "if edad >= 70:\n",
        "    print(f\"{nombre}, usted pertenece a la tercera edad y tiene prioridad en la fila.\")\n",
        "else:\n",
        "    print(f\"{nombre}, usted no pertecene a la tercera edad y por eso no tiene prioridad en la fila.\")"
      ],
      "metadata": {
        "colab": {
          "base_uri": "https://localhost:8080/"
        },
        "id": "8g-BvsVpzIt3",
        "outputId": "43f1983e-67d5-4552-e067-8711f4a32d36"
      },
      "execution_count": null,
      "outputs": [
        {
          "output_type": "stream",
          "name": "stdout",
          "text": [
            "Ingrese su nombre: Karen Totena \n",
            "Ingrese su edad: 20\n",
            "Karen Totena , usted no pertecene a la tercera edad y por eso no tiene prioridad en la fila.\n"
          ]
        }
      ]
    },
    {
      "cell_type": "code",
      "source": [
        "num1 = int(input(\"Ingrese el primer número: \"))\n",
        "num2 = int(input(\"Ingrese el segundo número: \"))\n",
        "num3 = int(input(\"Ingrese el tercer número: \"))\n",
        "\n",
        "mayor = max(num1, num2, num3)\n",
        "\n",
        "print(f\"El número mayor es: {mayor}\")"
      ],
      "metadata": {
        "colab": {
          "base_uri": "https://localhost:8080/"
        },
        "id": "Z-7gjUkN0ZjA",
        "outputId": "71dbfa9b-850d-4082-87a5-b6f0bb38367e"
      },
      "execution_count": null,
      "outputs": [
        {
          "output_type": "stream",
          "name": "stdout",
          "text": [
            "Ingrese el primer número: 7\n",
            "Ingrese el segundo número: 4\n",
            "Ingrese el tercer número: 3\n",
            "El número mayor es: 7\n"
          ]
        }
      ]
    },
    {
      "cell_type": "code",
      "source": [
        "lado1 = int(input(\"Ingrese el primer lado: \"))\n",
        "lado2 = int(input(\"Ingrese el segundo lado: \"))\n",
        "lado3 = int(input(\"Ingrese el tercer lado: \"))\n",
        "\n",
        "if lado1 == lado2 == lado3:\n",
        "    print(\"El triángulo es equilátero.\")\n",
        "elif lado1 == lado2 or lado1 == lado3 or lado2 == lado3:\n",
        "    print(\"El triángulo es isósceles.\")\n",
        "else:\n",
        "    print(\"El triángulo es escaleno.\")"
      ],
      "metadata": {
        "colab": {
          "base_uri": "https://localhost:8080/"
        },
        "id": "Rb4lNGY00zHV",
        "outputId": "26a6b206-5592-4ddf-ae69-2631661cf8f0"
      },
      "execution_count": null,
      "outputs": [
        {
          "output_type": "stream",
          "name": "stdout",
          "text": [
            "Ingrese el primer lado: 4\n",
            "Ingrese el segundo lado: 4\n",
            "Ingrese el tercer lado: 3\n",
            "El triángulo es isósceles.\n"
          ]
        }
      ]
    }
  ]
}