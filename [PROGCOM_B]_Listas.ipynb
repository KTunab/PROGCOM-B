{
  "nbformat": 4,
  "nbformat_minor": 0,
  "metadata": {
    "colab": {
      "provenance": [],
      "authorship_tag": "ABX9TyPpLvHGliM4dJcnNA88k5JV",
      "include_colab_link": true
    },
    "kernelspec": {
      "name": "python3",
      "display_name": "Python 3"
    },
    "language_info": {
      "name": "python"
    }
  },
  "cells": [
    {
      "cell_type": "markdown",
      "metadata": {
        "id": "view-in-github",
        "colab_type": "text"
      },
      "source": [
        "<a href=\"https://colab.research.google.com/github/KTunab/PROGCOM-B/blob/main/%5BPROGCOM_B%5D_Listas.ipynb\" target=\"_parent\"><img src=\"https://colab.research.google.com/assets/colab-badge.svg\" alt=\"Open In Colab\"/></a>"
      ]
    },
    {
      "cell_type": "markdown",
      "source": [
        "1. Todos los números divisibles por 6 del 1 al 60"
      ],
      "metadata": {
        "id": "3Uxk6MovQ3jG"
      }
    },
    {
      "cell_type": "code",
      "execution_count": 5,
      "metadata": {
        "colab": {
          "base_uri": "https://localhost:8080/"
        },
        "id": "ORXM0FqxQu2Q",
        "outputId": "b7023fdf-f8f8-4b01-c212-f4510a6a3399"
      },
      "outputs": [
        {
          "output_type": "stream",
          "name": "stdout",
          "text": [
            "Números divisibles por 6 del 1 al 60: [6, 12, 18, 24, 30, 36, 42, 48, 54, 60]\n"
          ]
        }
      ],
      "source": [
        "numeros = list(range(1, 61))\n",
        "\n",
        "numeros_divisibles = [num for num in numeros if num % 6 == 0]\n",
        "\n",
        "print(\"Números divisibles por 6 del 1 al 60:\", numeros_divisibles)"
      ]
    },
    {
      "cell_type": "markdown",
      "source": [
        "2. Todos los nombres que empiecen por \"A\" de una lista de nombres"
      ],
      "metadata": {
        "id": "Pjfx1juPScnW"
      }
    },
    {
      "cell_type": "code",
      "source": [
        "nombres = [\"Ana\", \"Luis\", \"Andrea\", \"Carlos\", \"Antonio\", \"Beatriz\", \"Alberto\", \"Daniel\"]\n",
        "\n",
        "nombres_con_a = [nombre for nombre in nombres if nombre.startswith(\"A\")]\n",
        "\n",
        "print(\"Nombres que empiezan por 'A':\", nombres_con_a)\n"
      ],
      "metadata": {
        "colab": {
          "base_uri": "https://localhost:8080/"
        },
        "id": "bODbbyW7Sl1m",
        "outputId": "856cb957-0f03-4fe1-c61b-4e4b9939efa6"
      },
      "execution_count": 6,
      "outputs": [
        {
          "output_type": "stream",
          "name": "stdout",
          "text": [
            "Nombres que empiezan por 'A': ['Ana', 'Andrea', 'Antonio', 'Alberto']\n"
          ]
        }
      ]
    },
    {
      "cell_type": "markdown",
      "source": [
        "3. Todos los números primos entre 0 y 70"
      ],
      "metadata": {
        "id": "-XnJhyl6Tu0-"
      }
    },
    {
      "cell_type": "code",
      "source": [
        "def es_primo(n):\n",
        "    if n < 2:\n",
        "        return False\n",
        "    for i in range(2, int(n ** 0.5) + 1):\n",
        "        if n % i == 0:\n",
        "            return False\n",
        "    return True\n",
        "\n",
        "primos = [num for num in range(0, 71) if es_primo(num)]\n",
        "\n",
        "print(\"Números primos entre 0 y 70:\", primos)"
      ],
      "metadata": {
        "colab": {
          "base_uri": "https://localhost:8080/"
        },
        "id": "WGrkRyffTlhP",
        "outputId": "57573a0e-5c93-4a8f-d123-3570f47debd4"
      },
      "execution_count": 7,
      "outputs": [
        {
          "output_type": "stream",
          "name": "stdout",
          "text": [
            "Números primos entre 0 y 70: [2, 3, 5, 7, 11, 13, 17, 19, 23, 29, 31, 37, 41, 43, 47, 53, 59, 61, 67]\n"
          ]
        }
      ]
    }
  ]
}