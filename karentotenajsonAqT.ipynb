{
  "nbformat": 4,
  "nbformat_minor": 0,
  "metadata": {
    "colab": {
      "provenance": []
    },
    "kernelspec": {
      "name": "python3",
      "display_name": "Python 3"
    },
    "language_info": {
      "name": "python"
    }
  },
  "cells": [
    {
      "cell_type": "code",
      "execution_count": null,
      "metadata": {
        "id": "zRWq7T79uqJZ"
      },
      "outputs": [],
      "source": [
        "{\n",
        "  \"nombreCompleto\": \"karen nivia\",\n",
        "  \"edad\": 28,\n",
        "  \"ciudadDeResidencia\": \"Bucaramanga\"\n",
        "}\n"
      ]
    },
    {
      "cell_type": "code",
      "source": [
        "{\n",
        "  \"id\": 101,\n",
        "  \"nombreProducto\": \"Auriculares Bluetooth\",\n",
        "  \"precio\": 29.99\n",
        "}\n"
      ],
      "metadata": {
        "id": "NZp3KVvousin"
      },
      "execution_count": null,
      "outputs": []
    },
    {
      "cell_type": "code",
      "source": [
        "{\n",
        "  \"marca\": \"Toyota\",\n",
        "  \"modelo\": \"Corolla\",\n",
        "  \"anioFabricacion\": 2020\n",
        "}\n"
      ],
      "metadata": {
        "id": "3u3xoF54uvE1"
      },
      "execution_count": null,
      "outputs": []
    },
    {
      "cell_type": "code",
      "source": [
        "[\n",
        "  {\n",
        "    \"id\": 1,\n",
        "    \"nombre\": \"tatiana lopez\",\n",
        "    \"calificacionFinal\": 8.5\n",
        "  },\n",
        "  {\n",
        "    \"id\": 2,\n",
        "    \"nombre\": \"Luis Ramírez\",\n",
        "    \"calificacionFinal\": 9.2\n",
        "  },\n",
        "  {\n",
        "    \"id\": 3,\n",
        "    \"nombre\": \"María Fernández\",\n",
        "    \"calificacionFinal\": 7.8\n",
        "  }\n",
        "]\n"
      ],
      "metadata": {
        "id": "RHtm2yBiuwnG"
      },
      "execution_count": null,
      "outputs": []
    },
    {
      "cell_type": "code",
      "source": [
        "{\n",
        "  \"nombre\": \"Tech Solutions\",\n",
        "  \"anioFundacion\": 2010,\n",
        "  \"direccion\": {\n",
        "    \"calle\": \"Calle Falsa 123\",\n",
        "    \"ciudad\": \"Barcelona\"\n",
        "  }\n",
        "}\n"
      ],
      "metadata": {
        "id": "rdcyFdXAuyqX"
      },
      "execution_count": null,
      "outputs": []
    },
    {
      "cell_type": "code",
      "source": [
        "{\n",
        "  \"titulo\": \"Cien años de soledad\",\n",
        "  \"numeroPaginas\": 471\n",
        "}\n"
      ],
      "metadata": {
        "id": "eJI1qdKSu0me"
      },
      "execution_count": null,
      "outputs": []
    },
    {
      "cell_type": "code",
      "source": [
        "{\n",
        "  \"nombre\": \"Pedro\",\n",
        "  \"edad\": 30\n",
        "}\n"
      ],
      "metadata": {
        "id": "SPwUAseDu2wd"
      },
      "execution_count": null,
      "outputs": []
    },
    {
      "cell_type": "code",
      "source": [
        "[\n",
        "  {\n",
        "    \"id\": 201,\n",
        "    \"nombre\": \"Smartphone X\",\n",
        "    \"precio\": 499.99\n",
        "  },\n",
        "  {\n",
        "    \"id\": 202,\n",
        "    \"nombre\": \"Tablet Z\",\n",
        "    \"precio\": 299.95\n",
        "  },\n",
        "  {\n",
        "    \"id\": 203,\n",
        "    \"nombre\": \"Laptop Y\",\n",
        "    \"precio\": 899.50\n",
        "  }\n",
        "]\n"
      ],
      "metadata": {
        "id": "ILU1OFNtu974"
      },
      "execution_count": null,
      "outputs": []
    },
    {
      "cell_type": "code",
      "source": [
        "{\n",
        "  \"temperatura\": 22.5,\n",
        "  \"humedad\": 60,\n",
        "  \"ciudad\": \"Sevilla\"\n",
        "}\n"
      ],
      "metadata": {
        "id": "vsLG-faFu_-H"
      },
      "execution_count": null,
      "outputs": []
    },
    {
      "cell_type": "code",
      "source": [
        "{\n",
        "  \"id\": 1001,\n",
        "  \"nombreUsuario\": \"karen-08\",\n",
        "  \"correoElectronico\": \"karen08@example.com\"\n",
        "}\n"
      ],
      "metadata": {
        "id": "ZCi6vCqzvA1Y"
      },
      "execution_count": null,
      "outputs": []
    }
  ]
}