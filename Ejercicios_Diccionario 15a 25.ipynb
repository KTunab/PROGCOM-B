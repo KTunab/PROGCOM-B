{
  "nbformat": 4,
  "nbformat_minor": 0,
  "metadata": {
    "colab": {
      "provenance": []
    },
    "kernelspec": {
      "name": "python3",
      "display_name": "Python 3"
    },
    "language_info": {
      "name": "python"
    }
  },
  "cells": [
    {
      "cell_type": "markdown",
      "source": [
        "15. Desarrolla un programa que valide si tres números pueden formar un triángulo y de qué tipo es."
      ],
      "metadata": {
        "id": "DmWRxmTWn3Yl"
      }
    },
    {
      "cell_type": "code",
      "execution_count": null,
      "metadata": {
        "id": "rOcGLnxSiwCs"
      },
      "outputs": [],
      "source": [
        "def tipo_triangulo(a, b, c):\n",
        "    triangulos = {\n",
        "        \"No es un triángulo\": a + b <= c or a + c <= b or b + c <= a,\n",
        "        \"Equilátero\": a == b == c,\n",
        "        \"Isósceles\": a == b or a == c or b == c,\n",
        "        \"Escaleno\": a != b and a != c and b != c\n",
        "    }\n",
        "    for tipo, condicion in triangulos.items():\n",
        "        if condicion:\n",
        "            return tipo\n",
        "\n",
        "a, b, c = map(int, input(\"Ingrese tres lados del triángulo separados por espacio: \").split())\n",
        "print(\"Resultado:\", tipo_triangulo(a, b, c))"
      ]
    },
    {
      "cell_type": "markdown",
      "source": [
        "16. Crea un programa que muestre la tabla de multiplicar de un número hasta el 10."
      ],
      "metadata": {
        "id": "kJjjGTAHpyum"
      }
    },
    {
      "cell_type": "code",
      "source": [
        "def tabla_multiplicar(n):\n",
        "    return {i: n * i for i in range(1, 11)}\n",
        "\n",
        "n = int(input(\"Ingrese un número: \"))\n",
        "print(tabla_multiplicar(n))"
      ],
      "metadata": {
        "id": "DrbG2rXri2r_"
      },
      "execution_count": null,
      "outputs": []
    },
    {
      "cell_type": "markdown",
      "source": [
        "17. Escribe un programa que calcule la suma de números naturales hasta n."
      ],
      "metadata": {
        "id": "TtP-YWXJsfvz"
      }
    },
    {
      "cell_type": "code",
      "source": [
        "def suma_n(n):\n",
        "    return {\"Suma\": sum(range(1, n + 1))}\n",
        "\n",
        "\n",
        "n = int(input(\"Ingrese un número: \"))\n",
        "print(suma_n(n))"
      ],
      "metadata": {
        "id": "xxH8gHnzi8fN"
      },
      "execution_count": null,
      "outputs": []
    },
    {
      "cell_type": "markdown",
      "source": [
        "18. Desarrolla un programa que calcule el factorial de un número. Recuerda que el factorial de 0 es 1 y no existen factoriales negativos."
      ],
      "metadata": {
        "id": "dojQZXSQssxD"
      }
    },
    {
      "cell_type": "code",
      "source": [
        "def factorial(n):\n",
        "    fact = {0: 1}\n",
        "    for i in range(1, n + 1):\n",
        "        fact[i] = fact[i - 1] * i\n",
        "    return fact[n]\n",
        "\n",
        "n = int(input(\"Ingrese un número: \"))\n",
        "print(\"Factorial:\", factorial(n))"
      ],
      "metadata": {
        "id": "MVVZoWfijO6q"
      },
      "execution_count": null,
      "outputs": []
    },
    {
      "cell_type": "markdown",
      "source": [
        "19. Crea un programa que muestre los primeros n números de la serie Fibonacci."
      ],
      "metadata": {
        "id": "DIHtb8cTs66D"
      }
    },
    {
      "cell_type": "code",
      "source": [
        "def fibonacci(n):\n",
        "    fib = {0: 0, 1: 1}\n",
        "    for i in range(2, n):\n",
        "        fib[i] = fib[i - 1] + fib[i - 2]\n",
        "    return fib\n",
        "\n",
        "n = int(input(\"Ingrese cuántos términos quiere ver: \"))\n",
        "print(fibonacci(n))"
      ],
      "metadata": {
        "id": "veQGlTAmja9D"
      },
      "execution_count": null,
      "outputs": []
    },
    {
      "cell_type": "markdown",
      "source": [
        "20. Escribe un programa que adivine entre un conjunto de diez colores definidos por el usuario, con un máximo de 10 intentos."
      ],
      "metadata": {
        "id": "4uhc4BgytDFb"
      }
    },
    {
      "cell_type": "code",
      "source": [
        "import random\n",
        "\n",
        "def adivinar_color():\n",
        "    colores = {i: color for i, color in enumerate([\"rojo\", \"azul\", \"verde\", \"amarillo\", \"negro\", \"blanco\", \"morado\", \"naranja\", \"rosado\", \"gris\"], 1)}\n",
        "    color_correcto = random.choice(list(colores.values()))\n",
        "\n",
        "    for intento in range(10):\n",
        "        intento_color = input(\"Adivina un color: \").lower()\n",
        "        if intento_color == color_correcto:\n",
        "            return f\"¡Correcto! El color era {color_correcto}\"\n",
        "        print(\"Incorrecto. Intenta de nuevo.\")\n",
        "\n",
        "    return f\"Perdiste. El color correcto era {color_correcto}\"\n",
        "\n",
        "print(adivinar_color())"
      ],
      "metadata": {
        "id": "x82y_qo4jeRt",
        "colab": {
          "base_uri": "https://localhost:8080/"
        },
        "outputId": "ebb14899-9944-4e19-fc2d-57bb74b02e76"
      },
      "execution_count": null,
      "outputs": [
        {
          "metadata": {
            "tags": null
          },
          "name": "stdout",
          "output_type": "stream",
          "text": [
            "Incorrecto. Intenta de nuevo.\n"
          ]
        }
      ]
    },
    {
      "cell_type": "markdown",
      "source": [
        "21. Desarrolla un programa que muestre los números pares del 1 al 100."
      ],
      "metadata": {
        "id": "aolNwy1ktJj6"
      }
    },
    {
      "cell_type": "code",
      "source": [
        "def numeros_pares():\n",
        "    return {i: i for i in range(2, 101, 2)}\n",
        "\n",
        "\n",
        "print(numeros_pares())"
      ],
      "metadata": {
        "id": "MTvCAzDBjnCT"
      },
      "execution_count": null,
      "outputs": []
    },
    {
      "cell_type": "markdown",
      "source": [
        "22. Crea un programa que calcule la suma de los dígitos de un número."
      ],
      "metadata": {
        "id": "QgbTle8StcSD"
      }
    },
    {
      "cell_type": "code",
      "source": [
        "def suma_digitos(n):\n",
        "    return {\"Suma de dígitos\": sum(int(d) for d in str(n))}\n",
        "\n",
        "n = int(input(\"Ingrese un número: \"))\n",
        "print(suma_digitos(n))"
      ],
      "metadata": {
        "id": "NmccOHXijtvA"
      },
      "execution_count": null,
      "outputs": []
    },
    {
      "cell_type": "markdown",
      "source": [
        "23. Escribe un programa que determine si un número es primo."
      ],
      "metadata": {
        "id": "uE8ObTZYtjXK"
      }
    },
    {
      "cell_type": "code",
      "source": [
        "def es_primo(n):\n",
        "    if n < 2:\n",
        "        return {n: \"No es primo\"}\n",
        "    for i in range(2, int(n ** 0.5) + 1):\n",
        "        if n % i == 0:\n",
        "            return {n: \"No es primo\"}\n",
        "    return {n: \"Es primo\"}\n",
        "\n",
        "n = int(input(\"Ingrese un número: \"))\n",
        "print(es_primo(n))"
      ],
      "metadata": {
        "id": "GLr8rjtbkW0Y"
      },
      "execution_count": null,
      "outputs": []
    },
    {
      "cell_type": "markdown",
      "source": [
        "24. Desarrolla un programa que muestre el patrón de un triángulo con asteriscos."
      ],
      "metadata": {
        "id": "T1NA79hGtqvj"
      }
    },
    {
      "cell_type": "code",
      "source": [
        "def triangulo_asteriscos(n):\n",
        "    return {i: '*' * i for i in range(1, n + 1)}\n",
        "\n",
        "\n",
        "n = int(input(\"Ingrese el tamaño del triángulo: \"))\n",
        "patron = triangulo_asteriscos(n)\n",
        "for linea in patron.values():\n",
        "    print(linea)"
      ],
      "metadata": {
        "id": "_KqgbSU7kgKY"
      },
      "execution_count": null,
      "outputs": []
    },
    {
      "cell_type": "markdown",
      "source": [
        "25. Crea un programa que calcule la potencia de un número sin usar el operador"
      ],
      "metadata": {
        "id": "J2-CAT8NtxuK"
      }
    },
    {
      "cell_type": "code",
      "source": [
        "def potencia(base, exponente):\n",
        "    resultado = {0: 1}\n",
        "    for i in range(1, exponente + 1):\n",
        "        resultado[i] = resultado[i - 1] * base\n",
        "    return resultado[exponente]\n",
        "\n",
        "base = int(input(\"Ingrese la base: \"))\n",
        "exponente = int(input(\"Ingrese el exponente: \"))\n",
        "print(\"Resultado:\", potencia(base, exponente))"
      ],
      "metadata": {
        "id": "eyLQsQx5kkVi"
      },
      "execution_count": null,
      "outputs": []
    }
  ]
}
