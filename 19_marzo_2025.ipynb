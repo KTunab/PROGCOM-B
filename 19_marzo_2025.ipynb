{
  "nbformat": 4,
  "nbformat_minor": 0,
  "metadata": {
    "colab": {
      "provenance": []
    },
    "kernelspec": {
      "name": "python3",
      "display_name": "Python 3"
    },
    "language_info": {
      "name": "python"
    }
  },
  "cells": [
    {
      "cell_type": "markdown",
      "source": [],
      "metadata": {
        "id": "uPAOMsbbwqXn"
      }
    },
    {
      "cell_type": "code",
      "execution_count": null,
      "metadata": {
        "id": "8S6CzCR8sqbM"
      },
      "outputs": [],
      "source": []
    },
    {
      "cell_type": "markdown",
      "source": [
        "21. Desarrolla un programa que muestre los números pares del 1 al 100."
      ],
      "metadata": {
        "id": "Ltnx-P-WwoeX"
      }
    },
    {
      "cell_type": "code",
      "source": [
        "pares = [num for num in range(1, 101) if num % 2 == 0]\n",
        "print(pares)"
      ],
      "metadata": {
        "id": "JxQY5cvltAxk"
      },
      "execution_count": null,
      "outputs": []
    },
    {
      "cell_type": "markdown",
      "source": [
        "22. Crea un programa que calcule la suma de los dígitos de un número."
      ],
      "metadata": {
        "id": "vrb_UkB3zz_T"
      }
    },
    {
      "cell_type": "code",
      "source": [
        "suma_digitos = lambda num: sum(int(d) for d in str(num))\n",
        "print(suma_digitos(1234))"
      ],
      "metadata": {
        "id": "iqEhGwY9tEKI"
      },
      "execution_count": null,
      "outputs": []
    },
    {
      "cell_type": "markdown",
      "source": [
        "23. Escribe un programa que determine si un número es primo."
      ],
      "metadata": {
        "id": "D1VyzR9rzrbG"
      }
    },
    {
      "cell_type": "code",
      "source": [
        "es_primo = lambda n: all(n % i != 0 for i in range(2, int(n ** 0.5) + 1)) and n > 1\n",
        "print(es_primo(17))"
      ],
      "metadata": {
        "id": "sS24cqrEtEUJ"
      },
      "execution_count": null,
      "outputs": []
    },
    {
      "cell_type": "markdown",
      "source": [
        "24. Desarrolla un programa que muestre el patrón de un triángulo con asteriscos."
      ],
      "metadata": {
        "id": "zsNR499Dzkas"
      }
    },
    {
      "cell_type": "code",
      "source": [
        "n = 5\n",
        "triangulo = [\"*\" * i for i in range(1, n + 1)]\n",
        "print(\"\\n\".join(triangulo))"
      ],
      "metadata": {
        "id": "_S3DH8UxtYOq"
      },
      "execution_count": null,
      "outputs": []
    },
    {
      "cell_type": "markdown",
      "source": [],
      "metadata": {
        "id": "ButquoA9za9e"
      }
    },
    {
      "cell_type": "code",
      "source": [
        "potencia = lambda base, exp: base ** exp\n",
        "print(potencia(2, 3))"
      ],
      "metadata": {
        "id": "_dCfAeagtuqO"
      },
      "execution_count": null,
      "outputs": []
    },
    {
      "cell_type": "markdown",
      "source": [
        "26. Escribe un pr7. Desograma que muestre todas las tablas de multiplicar del 1 al 10."
      ],
      "metadata": {
        "id": "rarUCijuzLAN"
      }
    },
    {
      "cell_type": "code",
      "source": [
        "tablas = [[f\"{i} x {j} = {i * j}\" for j in range(1, 11)] for i in range(1, 11)]\n",
        "for tabla in tablas:\n",
        "    print(\"\\n\".join(tabla), \"\\n\")"
      ],
      "metadata": {
        "id": "TvpH-ZOIt2Cs"
      },
      "execution_count": null,
      "outputs": []
    },
    {
      "cell_type": "markdown",
      "source": [
        "27.desarrolla un programa que encuentre todos los números perfectos hasta n."
      ],
      "metadata": {
        "id": "5pv5nXQbylZt"
      }
    },
    {
      "cell_type": "code",
      "source": [
        "n = 1000\n",
        "es_perfecto = lambda x: sum(i for i in range(1, x) if x % i == 0) == x\n",
        "perfectos = [i for i in range(1, n + 1) if es_perfecto(i)]\n",
        "print(perfectos)"
      ],
      "metadata": {
        "id": "0MhEdMCut7HV"
      },
      "execution_count": null,
      "outputs": []
    },
    {
      "cell_type": "markdown",
      "source": [
        "28. Crea un programa que genere un patrón de diamante con asteriscos."
      ],
      "metadata": {
        "id": "zzWyWfGUyW4v"
      }
    },
    {
      "cell_type": "code",
      "source": [
        "n = 5\n",
        "diamante = [\" \" * ((n - i) // 2) + \"*\" * i for i in range(1, n + 1, 2)] + \\\n",
        "           [\" \" * ((n - i) // 2) + \"*\" * i for i in range(n - 2, 0, -2)]\n",
        "print(\"\\n\".join(diamante))"
      ],
      "metadata": {
        "id": "yobfO0dut92U"
      },
      "execution_count": null,
      "outputs": []
    },
    {
      "cell_type": "markdown",
      "source": [
        "29. Escribe un programa que encuentre todos los números Armstrong hasta n."
      ],
      "metadata": {
        "id": "wOKj2L6jyNgV"
      }
    },
    {
      "cell_type": "code",
      "source": [
        "es_armstrong = lambda num: sum(int(d)**len(str(num)) for d in str(num)) == num\n",
        "armstrongs = [i for i in range(1000) if es_armstrong(i)]\n",
        "print(armstrongs)"
      ],
      "metadata": {
        "id": "Qm9tibHquCrH"
      },
      "execution_count": null,
      "outputs": []
    },
    {
      "cell_type": "markdown",
      "source": [
        "30. Desarrolla un programa que simule un reloj digital mostrando horas, minutos y segundos durante un período específico."
      ],
      "metadata": {
        "id": "TDYRtxF5x9ce"
      }
    },
    {
      "cell_type": "code",
      "source": [
        "import time\n",
        "\n",
        "reloj = lambda h, m, s: [(f\"{h:02}:{m:02}:{s:02}\") for h in range(h, 24) for m in range(m, 60) for s in range(s, 60)]\n",
        "for hora in reloj(23, 59, 50):\n",
        "    print(hora, end=\"\\r\")\n",
        "    time.sleep(1)"
      ],
      "metadata": {
        "id": "F8Q2FAj7uGO4"
      },
      "execution_count": null,
      "outputs": []
    }
  ]
}